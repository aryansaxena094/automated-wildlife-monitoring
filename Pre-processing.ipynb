{
 "cells": [
  {
   "cell_type": "code",
   "execution_count": 4,
   "metadata": {},
   "outputs": [],
   "source": [
    "#Importing the required libraries\n",
    "import os\n",
    "from PIL import Image\n",
    "import numpy as np"
   ]
  },
  {
   "cell_type": "code",
   "execution_count": 5,
   "metadata": {},
   "outputs": [],
   "source": [
    "# getting the current working directory, and initializing image and label list\n",
    "base_dir = '/Dataset/Animals-10/raw-img'\n",
    "images = []\n",
    "labels = []"
   ]
  },
  {
   "cell_type": "code",
   "execution_count": 6,
   "metadata": {},
   "outputs": [
    {
     "name": "stdout",
     "output_type": "stream",
     "text": [
      "Error loading image:  /home\n",
      "Error loading image:  /usr\n",
      "Error loading image:  /bin\n",
      "Error loading image:  /sbin\n",
      "Error loading image:  /.file\n",
      "Error loading image:  /etc\n",
      "Error loading image:  /var\n",
      "Error loading image:  /Library\n",
      "Error loading image:  /System\n",
      "Error loading image:  /.VolumeIcon.icns\n",
      "Error loading image:  /private\n",
      "Error loading image:  /.vol\n",
      "Error loading image:  /Users\n",
      "Error loading image:  /Applications\n",
      "Error loading image:  /opt\n",
      "Error loading image:  /dev\n",
      "Error loading image:  /Volumes\n",
      "Error loading image:  /tmp\n",
      "Error loading image:  /cores\n"
     ]
    },
    {
     "ename": "FileNotFoundError",
     "evalue": "[Errno 2] No such file or directory: '/Dataset/Animals-10/raw-img/D'",
     "output_type": "error",
     "traceback": [
      "\u001b[0;31m---------------------------------------------------------------------------\u001b[0m",
      "\u001b[0;31mFileNotFoundError\u001b[0m                         Traceback (most recent call last)",
      "Cell \u001b[0;32mIn[6], line 3\u001b[0m\n\u001b[1;32m      1\u001b[0m \u001b[38;5;28;01mfor\u001b[39;00m animal \u001b[38;5;129;01min\u001b[39;00m base_dir:\n\u001b[1;32m      2\u001b[0m     animal_dir \u001b[38;5;241m=\u001b[39m os\u001b[38;5;241m.\u001b[39mpath\u001b[38;5;241m.\u001b[39mjoin(base_dir, animal)\n\u001b[0;32m----> 3\u001b[0m     \u001b[38;5;28;01mfor\u001b[39;00m image \u001b[38;5;129;01min\u001b[39;00m \u001b[43mos\u001b[49m\u001b[38;5;241;43m.\u001b[39;49m\u001b[43mlistdir\u001b[49m\u001b[43m(\u001b[49m\u001b[43manimal_dir\u001b[49m\u001b[43m)\u001b[49m:\n\u001b[1;32m      4\u001b[0m         image_path \u001b[38;5;241m=\u001b[39m os\u001b[38;5;241m.\u001b[39mpath\u001b[38;5;241m.\u001b[39mjoin(animal_dir, image)\n\u001b[1;32m      5\u001b[0m         \u001b[38;5;28;01mtry\u001b[39;00m:\n",
      "\u001b[0;31mFileNotFoundError\u001b[0m: [Errno 2] No such file or directory: '/Dataset/Animals-10/raw-img/D'"
     ]
    }
   ],
   "source": [
    "for animal in base_dir:\n",
    "    animal_dir = os.path.join(base_dir, animal)\n",
    "    if os.path.isdir(animal_dir):\n",
    "        for image in os.listdir(animal_dir):\n",
    "            image_path = os.path.join(animal_dir, image)\n",
    "            try:\n",
    "                with Image.open(image_path) as img:\n",
    "                    img = img.resize((128, 128))\n",
    "                    images.append(np.array(img))\n",
    "                    labels.append(animal)\n",
    "            except:\n",
    "                print(\"Error loading image: \", image_path)\n",
    "        \n",
    "# converting the images and labels to numpy arrays\n",
    "images = np.array(images)\n",
    "labels = np.array(labels)\n",
    "print(f\"Loaded {len(images)} images with {len(np.unique(labels))} unique labels.\")"
   ]
  }
 ],
 "metadata": {
  "kernelspec": {
   "display_name": "Python 3",
   "language": "python",
   "name": "python3"
  },
  "language_info": {
   "codemirror_mode": {
    "name": "ipython",
    "version": 3
   },
   "file_extension": ".py",
   "mimetype": "text/x-python",
   "name": "python",
   "nbconvert_exporter": "python",
   "pygments_lexer": "ipython3",
   "version": "3.9.6"
  }
 },
 "nbformat": 4,
 "nbformat_minor": 2
}
