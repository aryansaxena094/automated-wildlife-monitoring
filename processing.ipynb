{
 "cells": [
  {
   "cell_type": "code",
   "execution_count": 8,
   "metadata": {},
   "outputs": [],
   "source": [
    "import cv2\n",
    "import os\n",
    "import tensorflow as tf\n",
    "from tensorflow.keras.preprocessing.image import ImageDataGenerator\n",
    "\n",
    "\n",
    "def load_images(directory):\n",
    "    images = []\n",
    "    labels = []\n",
    "    for root, dirs, files in os.walk(directory):\n",
    "        for file in files:\n",
    "            if file.endswith('.jpeg') or file.endswith('.png'):\n",
    "                img_path = os.path.join(root, file)\n",
    "                label = os.path.basename(root)\n",
    "                labels.append(label)\n",
    "                img = cv2.imread(img_path)\n",
    "                images.append(img)\n",
    "    return images, labels\n",
    "\n",
    "# Example usage\n",
    "images, labels = load_images('D:\\\\Concordia Study\\\\Winter 24\\\\COMP 6721 - AI\\\\Project_Code\\\\AAIProject\\\\Dataset\\\\Dataset_1\\\\raw-img')\n"
   ]
  },
  {
   "cell_type": "code",
   "execution_count": 10,
   "metadata": {},
   "outputs": [
    {
     "name": "stdout",
     "output_type": "stream",
     "text": [
      "Found 20947 images belonging to 10 classes.\n",
      "Found 5232 images belonging to 10 classes.\n"
     ]
    }
   ],
   "source": [
    "def load_images_with_tf(dataset_path, batch_size=32, target_size=(224, 224), class_mode='categorical'):\n",
    "    datagen = ImageDataGenerator(rescale=1./255, validation_split=0.2)\n",
    "\n",
    "    train_generator = datagen.flow_from_directory(\n",
    "        dataset_path,\n",
    "        target_size=target_size,\n",
    "        batch_size=batch_size,\n",
    "        class_mode=class_mode,\n",
    "        subset='training'\n",
    "    )\n",
    "\n",
    "    validation_generator = datagen.flow_from_directory(\n",
    "        dataset_path,\n",
    "        target_size=target_size,\n",
    "        batch_size=batch_size,\n",
    "        class_mode=class_mode,\n",
    "        subset='validation'\n",
    "    )\n",
    "\n",
    "    return train_generator, validation_generator\n",
    "\n",
    "# Example usage:\n",
    "dataset_path = 'D:\\\\Concordia Study\\\\Winter 24\\\\COMP 6721 - AI\\\\Project_Code\\\\AAIProject\\\\Dataset\\\\Dataset_1\\\\raw-img'\n",
    "batch_size = 32\n",
    "target_size = (224, 224)\n",
    "class_mode = 'categorical'\n",
    "train_gen, val_gen = load_images_with_tf(dataset_path, batch_size, target_size, class_mode)\n"
   ]
  }
 ],
 "metadata": {
  "kernelspec": {
   "display_name": "Python 3",
   "language": "python",
   "name": "python3"
  },
  "language_info": {
   "codemirror_mode": {
    "name": "ipython",
    "version": 3
   },
   "file_extension": ".py",
   "mimetype": "text/x-python",
   "name": "python",
   "nbconvert_exporter": "python",
   "pygments_lexer": "ipython3",
   "version": "3.9.13"
  }
 },
 "nbformat": 4,
 "nbformat_minor": 2
}
